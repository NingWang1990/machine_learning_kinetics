{
 "cells": [
  {
   "cell_type": "code",
   "execution_count": 16,
   "metadata": {},
   "outputs": [
    {
     "name": "stdout",
     "output_type": "stream",
     "text": [
      "Populating the interactive namespace from numpy and matplotlib\n"
     ]
    },
    {
     "name": "stderr",
     "output_type": "stream",
     "text": [
      "/u/wangnisn/anaconda3/lib/python3.8/site-packages/IPython/core/magics/pylab.py:159: UserWarning: pylab import has clobbered these variables: ['grid']\n",
      "`%matplotlib` prevents importing * from pylab and numpy\n",
      "  warn(\"pylab import has clobbered these variables: %s\"  % clobbered +\n"
     ]
    }
   ],
   "source": [
    "%pylab inline\n",
    "from gplearn.genetic import SymbolicRegressor\n",
    "from sklearn.ensemble import RandomForestRegressor\n",
    "from sklearn.tree import DecisionTreeRegressor\n",
    "from sklearn.utils.random import check_random_state\n",
    "from mpl_toolkits.mplot3d import Axes3D\n",
    "import matplotlib.pyplot as plt\n",
    "import numpy as np\n",
    "import graphviz"
   ]
  },
  {
   "cell_type": "code",
   "execution_count": 17,
   "metadata": {},
   "outputs": [],
   "source": [
    "import pde\n",
    "import matplotlib.pyplot as plt\n",
    "import numpy as np \n",
    "import gplearn\n",
    "from sklearn.model_selection import train_test_split"
   ]
  },
  {
   "cell_type": "code",
   "execution_count": 48,
   "metadata": {
    "scrolled": true
   },
   "outputs": [
    {
     "data": {
      "image/png": "[encoded data removed]",
      "text/plain": [
       "<Figure size 432x288 with 1 Axes>"
      ]
     },
     "metadata": {
      "needs_background": "light"
     },
     "output_type": "display_data"
    }
   ],
   "source": [
    "grid = pde.CartesianGrid([[-1, 1], [-1, 1]], 64)\n",
    "dx = dy = 2./64\n",
    "state = pde.ScalarField.from_expression(grid, 'exp(-(x**2 + y**2) * 100)')\n",
    "state.plot(title='Initial state');"
   ]
  },
  {
   "cell_type": "code",
   "execution_count": 35,
   "metadata": {},
   "outputs": [],
   "source": [
    "eq = pde.DiffusionPDE(diffusivity=0.5)\n",
    "dt = 1e-4\n",
    "storage = pde.MemoryStorage()\n",
    "result = eq.solve(state, t_range=1, dt=dt, tracker=storage.tracker(1*dt))"
   ]
  },
  {
   "cell_type": "code",
   "execution_count": 36,
   "metadata": {},
   "outputs": [],
   "source": [
    "operator = state.grid.get_operator(\"laplace\", bc='natural')\n",
    "def get_laplace(u,dx,dy):\n",
    "    #u_x = np.gradient(u,dx, axis=1)\n",
    "    #u_y = np.gradient(u,dy, axis=2)\n",
    "    #u_xx = np.gradient(u_x,dx, axis=1)\n",
    "    #u_yy = np.gradient(u_y, dy, axis=2)\n",
    "    #laplace = u_xx + u_yy\n",
    "    #return laplace\n",
    "    laplace = []\n",
    "    for d in u:\n",
    "        laplace.append(operator(d))\n",
    "    laplace = np.array(laplace)\n",
    "    return laplace"
   ]
  },
  {
   "cell_type": "code",
   "execution_count": 37,
   "metadata": {},
   "outputs": [],
   "source": [
    "u = storage.data\n",
    "u = np.array(u)\n",
    "laplace = get_laplace(u,dx,dy)\n",
    "u_t = np.gradient(u,dt,axis=0)\n",
    "# remove boundary pixels\n",
    "u = u[:,2:-2,2:-2].flatten()\n",
    "laplace = laplace[:,2:-2,2:-2].flatten()\n",
    "u_t = u_t[:,2:-2,2:-2].flatten()\n",
    "ind = np.random.choice(np.arange(len(u)),size=10000,replace=False)\n",
    "u = u[ind]\n",
    "laplace = laplace[ind]\n",
    "u_t = u_t[ind]\n",
    "\n",
    "x_train = np.vstack((laplace,u)).T\n",
    "y_train = u_t\n",
    "x_train, x_test, y_train, y_test = train_test_split(x_train,y_train,test_size=0.33, random_state=0)"
   ]
  },
  {
   "cell_type": "code",
   "execution_count": 38,
   "metadata": {},
   "outputs": [
    {
     "data": {
      "text/plain": [
       "0.4994142018099034"
      ]
     },
     "execution_count": 38,
     "metadata": {},
     "output_type": "execute_result"
    }
   ],
   "source": [
    "np.mean(y_train / x_train[:,0])"
   ]
  },
  {
   "cell_type": "code",
   "execution_count": 39,
   "metadata": {},
   "outputs": [],
   "source": [
    "model = gplearn.genetic.SymbolicRegressor(population_size=5000,\n",
    "                           generations=100, stopping_criteria=0.01,\n",
    "                           p_crossover=0.7, p_subtree_mutation=0.1,\n",
    "                           p_hoist_mutation=0.05, p_point_mutation=0.1,\n",
    "                           max_samples=0.9, verbose=1,\n",
    "                           parsimony_coefficient=0.01, random_state=0)"
   ]
  },
  {
   "cell_type": "code",
   "execution_count": 40,
   "metadata": {},
   "outputs": [
    {
     "name": "stdout",
     "output_type": "stream",
     "text": [
      "    |   Population Average    |             Best Individual              |\n",
      "---- ------------------------- ------------------------------------------ ----------\n",
      " Gen   Length          Fitness   Length          Fitness      OOB Fitness  Time Left\n",
      "   0    38.13      2.65948e+08        3       0.00028472      0.000301331     12.02m\n"
     ]
    },
    {
     "data": {
      "text/plain": [
       "SymbolicRegressor(generations=100, max_samples=0.9, p_crossover=0.7,\n",
       "                  p_hoist_mutation=0.05, p_point_mutation=0.1,\n",
       "                  p_subtree_mutation=0.1, parsimony_coefficient=0.01,\n",
       "                  population_size=5000, random_state=0, stopping_criteria=0.01,\n",
       "                  verbose=1)"
      ]
     },
     "execution_count": 40,
     "metadata": {},
     "output_type": "execute_result"
    }
   ],
   "source": [
    "model.fit(x_train, y_train)"
   ]
  },
  {
   "cell_type": "code",
   "execution_count": 41,
   "metadata": {},
   "outputs": [
    {
     "name": "stdout",
     "output_type": "stream",
     "text": [
      "mul(X0, 0.496)\n"
     ]
    }
   ],
   "source": [
    "print (model._program)"
   ]
  },
  {
   "cell_type": "code",
   "execution_count": 44,
   "metadata": {},
   "outputs": [
    {
     "data": {
      "image/svg+xml": [
       "<?xml version=\"1.0\" encoding=\"UTF-8\" standalone=\"no\"?>\n",
       "<!DOCTYPE svg PUBLIC \"-//W3C//DTD SVG 1.1//EN\"\n",
       " \"http://www.w3.org/Graphics/SVG/1.1/DTD/svg11.dtd\">\n",
       "<!-- Generated by graphviz version 2.44.0 (20200408.0750)\n",
       " -->\n",
       "<!-- Title: program Pages: 1 -->\n",
       "<svg width=\"156pt\" height=\"116pt\"\n",
       " viewBox=\"0.00 0.00 155.57 116.00\" xmlns=\"http://www.w3.org/2000/svg\" xmlns:xlink=\"http://www.w3.org/1999/xlink\">\n",
       "<g id=\"graph0\" class=\"graph\" transform=\"scale(1 1) rotate(0) translate(4 112)\">\n",
       "<title>program</title>\n",
       "<polygon fill=\"white\" stroke=\"transparent\" points=\"-4,4 -4,-112 151.57,-112 151.57,4 -4,4\"/>\n",
       "<!-- 0 -->\n",
       "<g id=\"node1\" class=\"node\">\n",
       "<title>0</title>\n",
       "<ellipse fill=\"#136ed4\" stroke=\"black\" cx=\"68\" cy=\"-90\" rx=\"28.69\" ry=\"18\"/>\n",
       "<text text-anchor=\"middle\" x=\"68\" y=\"-85.4\" font-family=\"Times,serif\" font-size=\"14.00\">mul</text>\n",
       "</g>\n",
       "<!-- 1 -->\n",
       "<g id=\"node2\" class=\"node\">\n",
       "<title>1</title>\n",
       "<ellipse fill=\"#60a6f6\" stroke=\"black\" cx=\"27\" cy=\"-18\" rx=\"27\" ry=\"18\"/>\n",
       "<text text-anchor=\"middle\" x=\"27\" y=\"-13.4\" font-family=\"Times,serif\" font-size=\"14.00\">X0</text>\n",
       "</g>\n",
       "<!-- 0&#45;&gt;1 -->\n",
       "<g id=\"edge2\" class=\"edge\">\n",
       "<title>0&#45;&gt;1</title>\n",
       "<path fill=\"none\" stroke=\"black\" d=\"M58.49,-72.76C53.47,-64.19 47.2,-53.49 41.58,-43.9\"/>\n",
       "<polygon fill=\"black\" stroke=\"black\" points=\"44.53,-42.01 36.46,-35.15 38.49,-45.55 44.53,-42.01\"/>\n",
       "</g>\n",
       "<!-- 2 -->\n",
       "<g id=\"node3\" class=\"node\">\n",
       "<title>2</title>\n",
       "<ellipse fill=\"#60a6f6\" stroke=\"black\" cx=\"110\" cy=\"-18\" rx=\"37.63\" ry=\"18\"/>\n",
       "<text text-anchor=\"middle\" x=\"110\" y=\"-13.4\" font-family=\"Times,serif\" font-size=\"14.00\">0.496</text>\n",
       "</g>\n",
       "<!-- 0&#45;&gt;2 -->\n",
       "<g id=\"edge1\" class=\"edge\">\n",
       "<title>0&#45;&gt;2</title>\n",
       "<path fill=\"none\" stroke=\"black\" d=\"M77.74,-72.76C82.81,-64.32 89.12,-53.8 94.81,-44.31\"/>\n",
       "<polygon fill=\"black\" stroke=\"black\" points=\"97.88,-46.01 100.02,-35.63 91.87,-42.41 97.88,-46.01\"/>\n",
       "</g>\n",
       "</g>\n",
       "</svg>\n"
      ],
      "text/plain": [
       "<graphviz.files.Source at 0x2acdb5b1dbe0>"
      ]
     },
     "execution_count": 44,
     "metadata": {},
     "output_type": "execute_result"
    }
   ],
   "source": [
    "dot_data = model._program.export_graphviz()\n",
    "graph = graphviz.Source(dot_data)\n",
    "graph"
   ]
  }
 ],
 "metadata": {
  "kernelspec": {
   "display_name": "Python 3",
   "language": "python",
   "name": "python3"
  },
  "language_info": {
   "codemirror_mode": {
    "name": "ipython",
    "version": 3
   },
   "file_extension": ".py",
   "mimetype": "text/x-python",
   "name": "python",
   "nbconvert_exporter": "python",
   "pygments_lexer": "ipython3",
   "version": "3.8.3"
  }
 },
 "nbformat": 4,
 "nbformat_minor": 4
}
