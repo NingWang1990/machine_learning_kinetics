{
 "cells": [
  {
   "cell_type": "code",
   "execution_count": 1,
   "metadata": {},
   "outputs": [],
   "source": [
    "from fipy import CellVariable, Variable, Grid1D, DiffusionTerm, TransientTerm, ImplicitSourceTerm, DummySolver, Viewer\n",
    "from fipy.tools import numerix\n",
    "import numpy as np\n",
    "import matplotlib.pyplot as plt"
   ]
  },
  {
   "cell_type": "code",
   "execution_count": 2,
   "metadata": {},
   "outputs": [],
   "source": [
    "nx = 400\n",
    "dx = 5e-6 # cm\n",
    "L = nx * dx\n"
   ]
  },
  {
   "cell_type": "code",
   "execution_count": 3,
   "metadata": {},
   "outputs": [],
   "source": [
    "mesh = Grid1D(dx = dx, nx = nx)"
   ]
  },
  {
   "cell_type": "code",
   "execution_count": 4,
   "metadata": {},
   "outputs": [],
   "source": [
    "phase = CellVariable(name=\"phase\",\n",
    "                      mesh=mesh,\n",
    "                      hasOld=1)\n",
    "x = mesh.cellCenters[0]\n",
    "phase.setValue(1.)\n",
    "phase.setValue(0., where=x > L/2)"
   ]
  },
  {
   "cell_type": "code",
   "execution_count": 5,
   "metadata": {},
   "outputs": [],
   "source": [
    "Lv = 2350 # J / cm**3\n",
    "Tm = 1728. # K\n",
    "T = Variable(value=Tm)\n",
    "enthalpy = Lv * (T - Tm) / Tm # J / cm**3"
   ]
  },
  {
   "cell_type": "code",
   "execution_count": 6,
   "metadata": {},
   "outputs": [],
   "source": [
    "delta = 1.5 * dx\n",
    "sigma = 3.7e-5 # J / cm**2\n",
    "beta = 0.33 # cm / (K s)\n",
    "kappa = 6 * sigma * delta # J / cm\n",
    "W = 6 * sigma / delta # J / cm**3\n",
    "Mphi = Tm * beta / (6. * Lv * delta) # cm**3 / (J s)"
   ]
  },
  {
   "cell_type": "code",
   "execution_count": 7,
   "metadata": {},
   "outputs": [],
   "source": [
    "displacement = L * 0.1"
   ]
  },
  {
   "cell_type": "code",
   "execution_count": 8,
   "metadata": {},
   "outputs": [],
   "source": [
    "mPhi = -((1 - 2 * phase) * W + 30 * phase * (1 - phase) * enthalpy)\n",
    "dmPhidPhi = 2 * W - 30 * (1 - 2 * phase) * enthalpy\n",
    "S1 = dmPhidPhi * phase * (1 - phase) + mPhi * (1 - 2 * phase)\n",
    "S0 = mPhi * phase * (1 - phase) - S1 * phase\n",
    "eq = TransientTerm(coeff=1/Mphi) == DiffusionTerm(coeff=kappa) \\\n",
    "                         + S0 + ImplicitSourceTerm(coeff = S1)"
   ]
  },
  {
   "cell_type": "code",
   "execution_count": 9,
   "metadata": {},
   "outputs": [],
   "source": [
    "T.setValue(T() - 1)"
   ]
  },
  {
   "cell_type": "code",
   "execution_count": 10,
   "metadata": {},
   "outputs": [],
   "source": [
    "velocity = beta * abs(Tm - T()) # cm / s\n",
    "timeStep = .1 * dx / velocity # s\n",
    "elapsed = 0\n",
    "traj = [np.array(phase),]\n",
    "while elapsed < displacement / velocity:\n",
    "    phase.updateOld()\n",
    "    res = 1e+10\n",
    "    while res > 1e-5:\n",
    "        res = eq.sweep(var=phase, dt=timeStep)\n",
    "    elapsed += timeStep\n",
    "    traj.append(np.array(phase))\n",
    "    "
   ]
  },
  {
   "cell_type": "code",
   "execution_count": 11,
   "metadata": {},
   "outputs": [
    {
     "data": {
      "text/plain": [
       "[<matplotlib.lines.Line2D at 0x2b935bd07eb0>]"
      ]
     },
     "execution_count": 11,
     "metadata": {},
     "output_type": "execute_result"
    },
    {
     "data": {
      "image/png": "[encoded data removed]",
      "text/plain": [
       "<Figure size 432x288 with 1 Axes>"
      ]
     },
     "metadata": {
      "needs_background": "light"
     },
     "output_type": "display_data"
    }
   ],
   "source": [
    "plt.plot(traj[0])\n",
    "plt.plot(traj[100])\n",
    "plt.plot(traj[200])\n",
    "plt.plot(traj[300])"
   ]
  }
 ],
 "metadata": {
  "kernelspec": {
   "display_name": "Python 3",
   "language": "python",
   "name": "python3"
  },
  "language_info": {
   "codemirror_mode": {
    "name": "ipython",
    "version": 3
   },
   "file_extension": ".py",
   "mimetype": "text/x-python",
   "name": "python",
   "nbconvert_exporter": "python",
   "pygments_lexer": "ipython3",
   "version": "3.8.3"
  }
 },
 "nbformat": 4,
 "nbformat_minor": 4
}
