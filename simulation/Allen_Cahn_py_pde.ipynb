{
 "cells": [
  {
   "cell_type": "code",
   "execution_count": 2,
   "metadata": {},
   "outputs": [],
   "source": [
    "import numpy as np\n",
    "import pde"
   ]
  },
  {
   "cell_type": "code",
   "execution_count": 3,
   "metadata": {},
   "outputs": [],
   "source": [
    "grid = pde.UnitGrid([100, 100])\n",
    "state = pde.ScalarField.random_uniform(grid, -1, 1)\n",
    "dt = 0.01\n",
    "eq = pde.AllenCahnPDE()"
   ]
  },
  {
   "cell_type": "code",
   "execution_count": 4,
   "metadata": {},
   "outputs": [
    {
     "data": {
      "application/vnd.jupyter.widget-view+json": {
       "model_id": "68172d787e044a75942d37e4ddb804e0",
       "version_major": 2,
       "version_minor": 0
      },
      "text/plain": [
       "Output()"
      ]
     },
     "metadata": {},
     "output_type": "display_data"
    }
   ],
   "source": [
    "# Show the evolution while computing it\n",
    "result = eq.solve(state, t_range=2, dt=0.01, tracker=pde.PlotTracker(interval=0.01))"
   ]
  },
  {
   "cell_type": "code",
   "execution_count": 5,
   "metadata": {},
   "outputs": [],
   "source": [
    "storage = pde.MemoryStorage()"
   ]
  },
  {
   "cell_type": "code",
   "execution_count": 6,
   "metadata": {},
   "outputs": [],
   "source": [
    "eq.solve(result, t_range=1, dt=0.01, tracker=storage.tracker(interval=0.01));"
   ]
  },
  {
   "cell_type": "code",
   "execution_count": 8,
   "metadata": {},
   "outputs": [
    {
     "data": {
      "text/plain": [
       "101"
      ]
     },
     "execution_count": 8,
     "metadata": {},
     "output_type": "execute_result"
    }
   ],
   "source": [
    "len(storage.data)"
   ]
  },
  {
   "cell_type": "code",
   "execution_count": 12,
   "metadata": {},
   "outputs": [],
   "source": [
    "u = np.array(storage.data)"
   ]
  },
  {
   "cell_type": "code",
   "execution_count": 13,
   "metadata": {},
   "outputs": [],
   "source": [
    "shape = u.shape"
   ]
  },
  {
   "cell_type": "code",
   "execution_count": 17,
   "metadata": {},
   "outputs": [
    {
     "data": {
      "text/plain": [
       "(101, 100, 100)"
      ]
     },
     "execution_count": 17,
     "metadata": {},
     "output_type": "execute_result"
    }
   ],
   "source": [
    "shape"
   ]
  },
  {
   "cell_type": "code",
   "execution_count": 30,
   "metadata": {},
   "outputs": [],
   "source": [
    "t = np.arange(0,shape[0])\n",
    "x = np.linspace(-1.,1.,shape[1],endpoint=False, retstep=True)"
   ]
  },
  {
   "cell_type": "code",
   "execution_count": 34,
   "metadata": {},
   "outputs": [
    {
     "data": {
      "text/plain": [
       "0.009900990099009901"
      ]
     },
     "execution_count": 34,
     "metadata": {},
     "output_type": "execute_result"
    }
   ],
   "source": [
    "t[1]"
   ]
  },
  {
   "cell_type": "code",
   "execution_count": 33,
   "metadata": {},
   "outputs": [
    {
     "data": {
      "text/plain": [
       "array([0.        , 0.00990099, 0.01980198, 0.02970297, 0.03960396,\n",
       "       0.04950495, 0.05940594, 0.06930693, 0.07920792, 0.08910891,\n",
       "       0.0990099 , 0.10891089, 0.11881188, 0.12871287, 0.13861386,\n",
       "       0.14851485, 0.15841584, 0.16831683, 0.17821782, 0.18811881,\n",
       "       0.1980198 , 0.20792079, 0.21782178, 0.22772277, 0.23762376,\n",
       "       0.24752475, 0.25742574, 0.26732673, 0.27722772, 0.28712871,\n",
       "       0.2970297 , 0.30693069, 0.31683168, 0.32673267, 0.33663366,\n",
       "       0.34653465, 0.35643564, 0.36633663, 0.37623762, 0.38613861,\n",
       "       0.3960396 , 0.40594059, 0.41584158, 0.42574257, 0.43564356,\n",
       "       0.44554455, 0.45544554, 0.46534653, 0.47524752, 0.48514851,\n",
       "       0.4950495 , 0.5049505 , 0.51485149, 0.52475248, 0.53465347,\n",
       "       0.54455446, 0.55445545, 0.56435644, 0.57425743, 0.58415842,\n",
       "       0.59405941, 0.6039604 , 0.61386139, 0.62376238, 0.63366337,\n",
       "       0.64356436, 0.65346535, 0.66336634, 0.67326733, 0.68316832,\n",
       "       0.69306931, 0.7029703 , 0.71287129, 0.72277228, 0.73267327,\n",
       "       0.74257426, 0.75247525, 0.76237624, 0.77227723, 0.78217822,\n",
       "       0.79207921, 0.8019802 , 0.81188119, 0.82178218, 0.83168317,\n",
       "       0.84158416, 0.85148515, 0.86138614, 0.87128713, 0.88118812,\n",
       "       0.89108911, 0.9009901 , 0.91089109, 0.92079208, 0.93069307,\n",
       "       0.94059406, 0.95049505, 0.96039604, 0.97029703, 0.98019802,\n",
       "       0.99009901])"
      ]
     },
     "execution_count": 33,
     "metadata": {},
     "output_type": "execute_result"
    }
   ],
   "source": [
    "t[0]"
   ]
  },
  {
   "cell_type": "code",
   "execution_count": null,
   "metadata": {},
   "outputs": [],
   "source": [
    "t,x,y = np.meshgrid()"
   ]
  }
 ],
 "metadata": {
  "kernelspec": {
   "display_name": "Python 3",
   "language": "python",
   "name": "python3"
  },
  "language_info": {
   "codemirror_mode": {
    "name": "ipython",
    "version": 3
   },
   "file_extension": ".py",
   "mimetype": "text/x-python",
   "name": "python",
   "nbconvert_exporter": "python",
   "pygments_lexer": "ipython3",
   "version": "3.7.6"
  }
 },
 "nbformat": 4,
 "nbformat_minor": 2
}
