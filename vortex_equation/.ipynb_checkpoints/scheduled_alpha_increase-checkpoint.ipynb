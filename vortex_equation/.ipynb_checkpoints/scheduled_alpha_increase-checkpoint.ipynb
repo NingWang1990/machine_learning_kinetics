{
 "cells": [
  {
   "cell_type": "code",
   "execution_count": 1,
   "metadata": {},
   "outputs": [],
   "source": [
    "import pandas as pd\n",
    "import matplotlib.pyplot as plt\n",
    "import sympy\n",
    "import numpy as np\n",
    "import torch\n",
    "torch.manual_seed(12)\n",
    "torch.cuda.manual_seed(12)\n",
    "torch.cuda.manual_seed_all\n",
    "\n",
    "dtype = torch.float\n",
    "device = torch.device(\"cuda:0\")\n"
   ]
  },
  {
   "cell_type": "code",
   "execution_count": 2,
   "metadata": {},
   "outputs": [],
   "source": [
    "import sys"
   ]
  },
  {
   "cell_type": "code",
   "execution_count": 3,
   "metadata": {},
   "outputs": [],
   "source": [
    "sys.path.append('/u/wangnisn/devel/machine_learning_kinetics/ml_kinetics')"
   ]
  },
  {
   "cell_type": "code",
   "execution_count": 4,
   "metadata": {},
   "outputs": [],
   "source": [
    "from mlk import learning"
   ]
  },
  {
   "cell_type": "markdown",
   "metadata": {},
   "source": [
    "# Set up model"
   ]
  },
  {
   "cell_type": "code",
   "execution_count": 5,
   "metadata": {},
   "outputs": [],
   "source": [
    "vortex = {'eqn_type':'vortex',\n",
    "        'fcn':'exp(-1/2*(x-cos(t))**2-1/2*(y-sin(t))**2)',\n",
    "        'domain':{'x':[-2,2],'y':[-2,2],'t':[0,2]},\n",
    "        \n",
    "        'err_vec':[0,0,0,1,-1,0,0]}\n",
    "\n",
    "u_t,u_x,u_y,u,x,y = sympy.symbols('u_t u_x u_y u x y')\n",
    "\n",
    "dictionary = (u_x,u_y,x*u_x,y*u_x,x*u_y,y*u_y,u)\n",
    "vortex['dictionary'] = dictionary\n",
    "pde = vortex\n",
    "domain =pde['domain']\n",
    "fcn = pde['fcn']\n",
    "n_points = 50000\n",
    "x = sympy.symbols([x for x in domain.keys()])\n",
    "u_exact = sympy.lambdify(x,sympy.sympify(fcn),'numpy')\n",
    "inputs = {}\n",
    "for key in domain.keys():\n",
    "    min_d = domain[key][0]\n",
    "    max_d = domain[key][1]\n",
    "    #iputs[key] = ((max_d-min_d)*torch.rand((n_points,1),device=device,dtype=dtype,requires_grad=True)+min_d)\n",
    "    tt = np.random.uniform(min_d,max_d,(n_points,1))\n",
    "    inputs[key] = torch.tensor(tt,device=device,dtype=dtype,requires_grad=True)\n",
    "u_exact = sympy.lambdify(x,sympy.sympify(fcn),'numpy')\n",
    "u = u_exact(*[i.detach().cpu() for i in inputs.values()])\n",
    "pde = {}\n",
    "u = u.type(dtype).to(device)\n",
    "pde['inputs'] = inputs"
   ]
  },
  {
   "cell_type": "code",
   "execution_count": 6,
   "metadata": {},
   "outputs": [
    {
     "name": "stdout",
     "output_type": "stream",
     "text": [
      "Epoch:    0,  Loss u: 1.381e-01, Loss pde: 9.823e-04, Loss_norm: 7.488e+00, Loss tot: 1.381e-01\n",
      "  coefs: -5.6304e-01   -2.8970e+00    1.4370e-01   -6.2471e-01   -1.4866e+00    1.3500e+00    4.2288e-01  \n",
      "Epoch:   50,  Loss u: 1.569e-02, Loss pde: 3.447e-01, Loss_norm: 7.488e+00, Loss tot: 1.569e-02\n",
      "  coefs: -5.6304e-01   -2.8970e+00    1.4370e-01   -6.2471e-01   -1.4866e+00    1.3500e+00    4.2288e-01  \n",
      "Epoch:  100,  Loss u: 2.240e-03, Loss pde: 9.350e-01, Loss_norm: 7.488e+00, Loss tot: 2.240e-03\n",
      "  coefs: -5.6304e-01   -2.8970e+00    1.4370e-01   -6.2471e-01   -1.4866e+00    1.3500e+00    4.2288e-01  \n",
      "Epoch:  150,  Loss u: 1.366e-03, Loss pde: 9.511e-01, Loss_norm: 7.488e+00, Loss tot: 1.366e-03\n",
      "  coefs: -5.6304e-01   -2.8970e+00    1.4370e-01   -6.2471e-01   -1.4866e+00    1.3500e+00    4.2288e-01  \n",
      "Epoch:  200,  Loss u: 9.115e-04, Loss pde: 9.027e-01, Loss_norm: 7.488e+00, Loss tot: 9.115e-04\n",
      "  coefs: -5.6304e-01   -2.8970e+00    1.4370e-01   -6.2471e-01   -1.4866e+00    1.3500e+00    4.2288e-01  \n",
      "Epoch:  250,  Loss u: 2.437e-03, Loss pde: 8.716e-01, Loss_norm: 7.488e+00, Loss tot: 2.437e-03\n",
      "  coefs: -5.6304e-01   -2.8970e+00    1.4370e-01   -6.2471e-01   -1.4866e+00    1.3500e+00    4.2288e-01  \n",
      "Epoch:  300,  Loss u: 4.374e-04, Loss pde: 9.495e-01, Loss_norm: 7.488e+00, Loss tot: 4.374e-04\n",
      "  coefs: -5.6304e-01   -2.8970e+00    1.4370e-01   -6.2471e-01   -1.4866e+00    1.3500e+00    4.2288e-01  \n",
      "Epoch:  350,  Loss u: 3.906e-04, Loss pde: 9.454e-01, Loss_norm: 7.488e+00, Loss tot: 3.906e-04\n",
      "  coefs: -5.6304e-01   -2.8970e+00    1.4370e-01   -6.2471e-01   -1.4866e+00    1.3500e+00    4.2288e-01  \n",
      "Epoch:  400,  Loss u: 2.602e-04, Loss pde: 9.562e-01, Loss_norm: 7.488e+00, Loss tot: 2.602e-04\n",
      "  coefs: -5.6304e-01   -2.8970e+00    1.4370e-01   -6.2471e-01   -1.4866e+00    1.3500e+00    4.2288e-01  \n",
      "Epoch:  450,  Loss u: 7.812e-04, Loss pde: 9.272e-01, Loss_norm: 7.488e+00, Loss tot: 7.812e-04\n",
      "  coefs: -5.6304e-01   -2.8970e+00    1.4370e-01   -6.2471e-01   -1.4866e+00    1.3500e+00    4.2288e-01  \n",
      "Epoch:  500,  Loss u: 1.815e-04, Loss pde: 2.396e-03, Loss_norm: 1.911e+00, Loss tot: 8.465e-03\n",
      "  coefs:  1.3804e-01   -9.9791e-02    1.3227e-02    8.3713e-01   -8.1761e-01   -2.8518e-03    2.6219e-03  \n",
      "Epoch:  550,  Loss u: 1.029e-02, Loss pde: 1.631e-04, Loss_norm: 1.444e+00, Loss tot: 1.091e-02\n",
      "  coefs:  5.2406e-01   -5.3085e-01   -9.0883e-02    1.3244e-01   -1.5553e-01   -1.5849e-03   -8.3754e-03  \n",
      "Epoch:  600,  Loss u: 1.795e-03, Loss pde: 1.498e-04, Loss_norm: 1.472e+00, Loss tot: 2.400e-03\n",
      "  coefs:  5.7392e-01   -4.8678e-01   -3.7121e-02    1.6307e-01   -1.6831e-01   -3.9836e-02   -2.9974e-03  \n",
      "Epoch:  650,  Loss u: 1.183e-03, Loss pde: 8.710e-05, Loss_norm: 1.462e+00, Loss tot: 1.562e-03\n",
      "  coefs:  6.0547e-01   -4.3861e-01   -2.7238e-02    1.8463e-01   -1.7749e-01   -2.4696e-02   -4.2399e-03  \n",
      "Epoch:  700,  Loss u: 1.044e-03, Loss pde: 5.013e-05, Loss_norm: 1.468e+00, Loss tot: 1.281e-03\n",
      "  coefs:  6.1004e-01   -4.1590e-01   -2.0002e-02    2.0250e-01   -1.9758e-01   -1.7454e-02   -4.9908e-03  \n",
      "Epoch:  750,  Loss u: 9.520e-04, Loss pde: 3.399e-05, Loss_norm: 1.482e+00, Loss tot: 1.126e-03\n",
      "  coefs:  6.0127e-01   -3.9676e-01   -1.3849e-02    2.2515e-01   -2.2476e-01   -1.5994e-02   -4.4398e-03  \n",
      "Epoch:  800,  Loss u: 8.796e-04, Loss pde: 2.768e-05, Loss_norm: 1.496e+00, Loss tot: 1.031e-03\n",
      "  coefs:  5.8693e-01   -3.8101e-01   -8.5280e-03    2.4835e-01   -2.5194e-01   -1.6435e-02   -2.8222e-03  \n",
      "Epoch:  850,  Loss u: 9.126e-04, Loss pde: 2.546e-05, Loss_norm: 1.485e+00, Loss tot: 1.059e-03\n",
      "  coefs:  5.4629e-01   -3.9161e-01   -3.7682e-03    2.5949e-01   -2.6840e-01   -1.2262e-02   -2.7484e-03  \n",
      "Epoch:  900,  Loss u: 7.898e-04, Loss pde: 2.357e-05, Loss_norm: 1.511e+00, Loss tot: 9.323e-04\n",
      "  coefs:  5.4150e-01   -3.6921e-01    5.8715e-04    2.8864e-01   -2.9629e-01   -1.4407e-02   -3.7219e-05  \n",
      "Epoch:  950,  Loss u: 7.324e-04, Loss pde: 2.390e-05, Loss_norm: 1.536e+00, Loss tot: 8.829e-04\n",
      "  coefs:  5.3944e-01   -3.5232e-01    3.3158e-03    3.1186e-01   -3.1756e-01   -1.1766e-02    0.0000e+00  \n",
      "Epoch: 1000,  Loss u: 7.333e-04, Loss pde: 2.171e-05, Loss_norm: 1.544e+00, Loss tot: 8.768e-04\n",
      "  coefs:  5.2303e-01   -3.6572e-01    3.7057e-03    3.1738e-01   -3.2410e-01   -8.3746e-03   -1.5526e-03  \n",
      "Epoch: 1050,  Loss u: 6.764e-04, Loss pde: 2.137e-05, Loss_norm: 1.550e+00, Loss tot: 8.232e-04\n",
      "  coefs:  5.1033e-01   -3.3695e-01    3.8402e-03    3.4066e-01   -3.4723e-01   -1.1009e-02   -1.8220e-04  \n",
      "Epoch: 1100,  Loss u: 7.890e-04, Loss pde: 2.718e-05, Loss_norm: 1.501e+00, Loss tot: 9.777e-04\n",
      "  coefs:  4.7751e-01   -2.9142e-01    6.0779e-03    3.5052e-01   -3.5667e-01   -1.8159e-02   -2.5235e-04  \n",
      "Epoch: 1150,  Loss u: 6.572e-04, Loss pde: 1.896e-05, Loss_norm: 1.551e+00, Loss tot: 7.985e-04\n",
      "  coefs:  4.9267e-01   -2.9871e-01   -1.7632e-03    3.6463e-01   -3.7222e-01   -2.0059e-02    8.3287e-04  \n",
      "Epoch: 1200,  Loss u: 6.735e-04, Loss pde: 2.186e-05, Loss_norm: 1.578e+00, Loss tot: 8.397e-04\n",
      "  coefs:  4.5563e-01   -3.4264e-01    7.8323e-03    3.8278e-01   -3.8134e-01   -3.8961e-03   -4.2146e-03  \n",
      "Epoch: 1250,  Loss u: 5.697e-04, Loss pde: 2.163e-05, Loss_norm: 1.610e+00, Loss tot: 7.400e-04\n",
      "  coefs:  4.9839e-01   -2.9676e-01    9.0638e-04    3.9874e-01   -4.0144e-01   -1.1335e-02   -2.3234e-03  \n",
      "Epoch: 1300,  Loss u: 6.464e-04, Loss pde: 2.624e-05, Loss_norm: 1.608e+00, Loss tot: 8.559e-04\n",
      "  coefs:  4.8502e-01   -3.3978e-01   -0.0000e+00    3.9385e-01   -3.8828e-01   -3.4467e-04   -1.1570e-03  \n",
      "Epoch: 1350,  Loss u: 5.395e-04, Loss pde: 1.693e-05, Loss_norm: 1.622e+00, Loss tot: 6.847e-04\n",
      "  coefs:  4.7217e-01   -3.1737e-01    3.2476e-04    4.1168e-01   -4.1270e-01   -5.8940e-03   -2.3548e-03  \n",
      "Epoch: 1400,  Loss u: 6.909e-04, Loss pde: 2.343e-05, Loss_norm: 1.598e+00, Loss tot: 8.911e-04\n",
      "  coefs:  4.4668e-01   -2.6808e-01    4.4352e-03    4.3099e-01   -4.3007e-01   -1.6617e-02   -6.9054e-04  \n",
      "Epoch: 1450,  Loss u: 1.065e-03, Loss pde: 3.704e-05, Loss_norm: 1.584e+00, Loss tot: 1.381e-03\n",
      "  coefs:  3.7389e-01   -3.5015e-01    7.9943e-03    4.2850e-01   -4.1726e-01    4.3376e-03   -1.6809e-03  \n",
      "Epoch: 1500,  Loss u: 5.902e-04, Loss pde: 1.444e-05, Loss_norm: 1.606e+00, Loss tot: 7.268e-04\n",
      "  coefs:  3.9302e-01   -3.1827e-01    3.1271e-03    4.4177e-01   -4.4580e-01   -2.6718e-03   -1.5218e-03  \n",
      "Epoch: 1550,  Loss u: 4.983e-04, Loss pde: 1.556e-05, Loss_norm: 1.622e+00, Loss tot: 6.482e-04\n",
      "  coefs:  4.0562e-01   -2.8743e-01    9.8536e-04    4.5565e-01   -4.6379e-01   -7.2359e-03   -8.8540e-04  \n",
      "Epoch: 1600,  Loss u: 6.108e-04, Loss pde: 2.404e-05, Loss_norm: 1.633e+00, Loss tot: 8.397e-04\n",
      "  coefs:  4.3525e-01   -2.4178e-01    7.6056e-04    4.6069e-01   -4.8245e-01   -1.1055e-02    1.4138e-03  \n",
      "Epoch: 1650,  Loss u: 4.431e-04, Loss pde: 1.348e-05, Loss_norm: 1.646e+00, Loss tot: 5.820e-04\n",
      "  coefs:  4.1541e-01   -2.5001e-01   -4.0527e-05    4.7848e-01   -4.8588e-01   -1.1977e-02   -3.8140e-03  \n",
      "Epoch: 1700,  Loss u: 4.505e-04, Loss pde: 1.515e-05, Loss_norm: 1.694e+00, Loss tot: 6.088e-04\n",
      "  coefs:  4.3060e-01   -2.7945e-01   -4.4943e-03    4.8510e-01   -4.8918e-01   -1.1463e-03   -4.4147e-03  \n",
      "Epoch: 1750,  Loss u: 5.267e-04, Loss pde: 1.814e-05, Loss_norm: 1.671e+00, Loss tot: 7.172e-04\n",
      "  coefs:  3.8828e-01   -3.0214e-01    1.3046e-03    4.8986e-01   -4.8752e-01    1.5340e-03   -3.6956e-04  \n",
      "Epoch: 1800,  Loss u: 4.191e-04, Loss pde: 1.117e-05, Loss_norm: 1.682e+00, Loss tot: 5.456e-04\n",
      "  coefs:  3.8571e-01   -2.8599e-01    0.0000e+00    5.0356e-01   -5.0456e-01   -7.5060e-04   -1.7018e-03  \n",
      "Epoch: 1850,  Loss u: 3.892e-04, Loss pde: 1.302e-05, Loss_norm: 1.693e+00, Loss tot: 5.372e-04\n",
      "  coefs:  4.0125e-01   -2.6058e-01    1.7595e-04    5.0877e-01   -5.1644e-01   -3.2271e-03   -2.6493e-03  \n",
      "Epoch: 1900,  Loss u: 5.708e-04, Loss pde: 1.855e-05, Loss_norm: 1.666e+00, Loss tot: 7.787e-04\n",
      "  coefs:  3.6936e-01   -2.2813e-01    2.7810e-03    5.2268e-01   -5.2896e-01   -1.1578e-02   -2.4649e-03  \n",
      "Epoch: 1950,  Loss u: 4.460e-04, Loss pde: 1.126e-05, Loss_norm: 1.654e+00, Loss tot: 5.814e-04\n",
      "  coefs:  3.7336e-01   -2.2772e-01   -3.2090e-03    5.1591e-01   -5.2137e-01   -8.5440e-03   -3.5621e-03  \n",
      "Epoch: 2000,  Loss u: 4.025e-04, Loss pde: 1.081e-05, Loss_norm: 1.667e+00, Loss tot: 5.359e-04\n",
      "  coefs:  3.5621e-01   -2.3472e-01    5.7947e-04    5.3406e-01   -5.3591e-01   -4.8445e-03   -9.4037e-04  \n"
     ]
    },
    {
     "name": "stdout",
     "output_type": "stream",
     "text": [
      "Epoch: 2050,  Loss u: 4.092e-04, Loss pde: 8.313e-06, Loss_norm: 1.665e+00, Loss tot: 5.176e-04\n",
      "  coefs:  3.4611e-01   -2.5420e-01   -9.8414e-05    5.3306e-01   -5.2947e-01   -6.1419e-04   -1.1337e-03  \n",
      "Epoch: 2100,  Loss u: 3.658e-04, Loss pde: 7.619e-06, Loss_norm: 1.682e+00, Loss tot: 4.686e-04\n",
      "  coefs:  3.4180e-01   -2.4296e-01   -3.2468e-07    5.4815e-01   -5.4662e-01   -1.6175e-03   -5.4789e-04  \n",
      "Epoch: 2150,  Loss u: 3.482e-04, Loss pde: 7.661e-06, Loss_norm: 1.688e+00, Loss tot: 4.535e-04\n",
      "  coefs:  3.5067e-01   -2.2323e-01   -4.4123e-04    5.5159e-01   -5.5592e-01   -4.3628e-03   -1.8605e-03  \n",
      "Epoch: 2200,  Loss u: 7.175e-04, Loss pde: 3.311e-05, Loss_norm: 1.713e+00, Loss tot: 1.125e-03\n",
      "  coefs:  3.5916e-01   -2.2684e-01   -3.4106e-03    5.5664e-01   -5.6537e-01    1.2136e-04   -1.8902e-03  \n",
      "Epoch: 2250,  Loss u: 3.444e-04, Loss pde: 8.454e-06, Loss_norm: 1.724e+00, Loss tot: 4.634e-04\n",
      "  coefs:  3.7012e-01   -2.0979e-01   -1.7735e-03    5.6347e-01   -5.7395e-01   -3.2029e-03   -2.1461e-03  \n",
      "Epoch: 2300,  Loss u: 3.224e-04, Loss pde: 7.912e-06, Loss_norm: 1.734e+00, Loss tot: 4.368e-04\n",
      "  coefs:  3.5046e-01   -2.2220e-01   -1.2314e-03    5.7623e-01   -5.7950e-01   -1.2930e-03   -2.5949e-03  \n",
      "Epoch: 2350,  Loss u: 3.432e-04, Loss pde: 9.223e-06, Loss_norm: 1.745e+00, Loss tot: 4.761e-04\n",
      "  coefs:  3.6121e-01   -2.1257e-01   -3.3783e-04    5.8084e-01   -5.8957e-01   -1.0879e-04   -6.6472e-04  \n",
      "Epoch: 2400,  Loss u: 2.884e-04, Loss pde: 5.921e-06, Loss_norm: 1.768e+00, Loss tot: 3.816e-04\n",
      "  coefs:  3.5756e-01   -2.1600e-01   -2.7194e-03    5.9223e-01   -5.9643e-01    1.1311e-03   -2.4061e-03  \n",
      "Epoch: 2450,  Loss u: 3.313e-04, Loss pde: 1.072e-05, Loss_norm: 1.757e+00, Loss tot: 4.882e-04\n",
      "  coefs:  3.2633e-01   -2.2509e-01   -1.2214e-03    5.9775e-01   -6.0207e-01    4.3915e-03    2.2876e-04  \n",
      "Epoch: 2500,  Loss u: 2.761e-04, Loss pde: 5.085e-06, Loss_norm: 1.752e+00, Loss tot: 3.610e-04\n",
      "  coefs:  3.3146e-01   -2.1534e-01   -2.1246e-03    5.9412e-01   -6.0726e-01    4.1583e-05   -1.6901e-03  \n",
      "Epoch: 2550,  Loss u: 3.148e-04, Loss pde: 6.886e-06, Loss_norm: 1.731e+00, Loss tot: 4.250e-04\n",
      "  coefs:  3.0664e-01   -1.9979e-01    1.2615e-03    6.0300e-01   -6.1808e-01   -2.3508e-03   -3.4230e-05  \n",
      "Epoch: 2600,  Loss u: 3.080e-04, Loss pde: 7.398e-06, Loss_norm: 1.752e+00, Loss tot: 4.272e-04\n",
      "  coefs:  3.0133e-01   -2.1736e-01   -6.0760e-04    6.0266e-01   -6.2598e-01    2.8792e-03    8.7140e-04  \n",
      "Epoch: 2650,  Loss u: 2.785e-04, Loss pde: 4.414e-06, Loss_norm: 1.751e+00, Loss tot: 3.577e-04\n",
      "  coefs:  3.0120e-01   -2.1243e-01   -2.4440e-03    6.0034e-01   -6.3418e-01   -0.0000e+00   -2.8234e-04  \n",
      "Epoch: 2700,  Loss u: 3.482e-04, Loss pde: 1.110e-05, Loss_norm: 1.757e+00, Loss tot: 5.237e-04\n",
      "  coefs:  3.0914e-01   -1.9493e-01   -1.7469e-04    6.1223e-01   -6.3792e-01    1.3554e-04    2.2059e-03  \n",
      "Epoch: 2750,  Loss u: 3.073e-04, Loss pde: 6.736e-06, Loss_norm: 1.807e+00, Loss tot: 4.229e-04\n",
      "  coefs:  3.0633e-01   -2.2633e-01   -4.9655e-03    6.2370e-01   -6.3777e-01    6.6226e-03   -9.8303e-04  \n",
      "Epoch: 2800,  Loss u: 2.391e-04, Loss pde: 3.804e-06, Loss_norm: 1.788e+00, Loss tot: 3.130e-04\n",
      "  coefs:  2.9584e-01   -2.0949e-01   -3.0073e-03    6.3041e-01   -6.4614e-01    2.8267e-03    3.7890e-05  \n",
      "Epoch: 2850,  Loss u: 2.513e-04, Loss pde: 5.423e-06, Loss_norm: 1.773e+00, Loss tot: 3.502e-04\n",
      "  coefs:  3.0218e-01   -1.9777e-01   -2.6425e-03    6.3489e-01   -6.3460e-01    8.1040e-04    3.4156e-04  \n",
      "Epoch: 2900,  Loss u: 2.427e-04, Loss pde: 3.538e-06, Loss_norm: 1.761e+00, Loss tot: 3.141e-04\n",
      "  coefs:  2.8804e-01   -1.8808e-01   -6.3607e-05    6.4125e-01   -6.4278e-01   -4.2670e-04    1.3273e-04  \n",
      "Epoch: 2950,  Loss u: 2.328e-04, Loss pde: 3.217e-06, Loss_norm: 1.763e+00, Loss tot: 3.002e-04\n",
      "  coefs:  2.8425e-01   -1.8149e-01   -8.4266e-05    6.4291e-01   -6.5291e-01   -1.1279e-03    2.9872e-05  \n",
      "Epoch: 3000,  Loss u: 3.617e-04, Loss pde: 1.708e-05, Loss_norm: 1.757e+00, Loss tot: 6.475e-04\n",
      "  coefs:  2.9020e-01   -1.7703e-01    1.4542e-03    6.4583e-01   -6.4144e-01    4.2888e-05    5.2627e-04  \n",
      "Epoch: 3050,  Loss u: 2.414e-04, Loss pde: 2.751e-06, Loss_norm: 1.755e+00, Loss tot: 3.028e-04\n",
      "  coefs:  2.8749e-01   -1.7395e-01    1.1078e-04    6.5079e-01   -6.4233e-01   -6.6463e-04   -5.4285e-05  \n",
      "Epoch: 3100,  Loss u: 5.601e-04, Loss pde: 1.094e-05, Loss_norm: 1.745e+00, Loss tot: 7.546e-04\n",
      "  coefs:  2.7783e-01   -1.5601e-01    1.3514e-03    6.5462e-01   -6.4964e-01   -2.8257e-03    2.2584e-03  \n",
      "Epoch: 3150,  Loss u: 2.387e-04, Loss pde: 2.625e-06, Loss_norm: 1.751e+00, Loss tot: 2.994e-04\n",
      "  coefs:  2.7243e-01   -1.5460e-01    8.3850e-04    6.6206e-01   -6.5728e-01   -4.0523e-03   -0.0000e+00  \n",
      "Epoch: 3200,  Loss u: 2.302e-04, Loss pde: 3.001e-06, Loss_norm: 1.761e+00, Loss tot: 2.978e-04\n",
      "  coefs:  2.6629e-01   -1.6115e-01    0.0000e+00    6.6287e-01   -6.6656e-01   -3.6398e-03    3.9135e-04  \n",
      "Epoch: 3250,  Loss u: 2.816e-04, Loss pde: 4.875e-06, Loss_norm: 1.777e+00, Loss tot: 3.819e-04\n",
      "  coefs:  2.7589e-01   -1.6480e-01    2.4843e-03    6.6402e-01   -6.6362e-01   -5.2329e-03    6.6336e-04  \n",
      "Epoch: 3300,  Loss u: 2.103e-04, Loss pde: 2.496e-06, Loss_norm: 1.789e+00, Loss tot: 2.711e-04\n",
      "  coefs:  2.8118e-01   -1.6407e-01    1.0714e-03    6.6619e-01   -6.7093e-01   -5.9024e-03   -4.3092e-05  \n",
      "Epoch: 3350,  Loss u: 2.117e-04, Loss pde: 5.777e-06, Loss_norm: 1.795e+00, Loss tot: 3.303e-04\n",
      "  coefs:  2.7563e-01   -1.7103e-01   -9.2828e-05    6.6588e-01   -6.7783e-01   -3.2880e-03    1.5209e-03  \n",
      "Epoch: 3400,  Loss u: 1.954e-04, Loss pde: 2.304e-06, Loss_norm: 1.799e+00, Loss tot: 2.541e-04\n",
      "  coefs:  2.7055e-01   -1.7189e-01    2.1268e-04    6.7195e-01   -6.8109e-01   -3.0599e-03    0.0000e+00  \n",
      "Epoch: 3450,  Loss u: 3.582e-04, Loss pde: 5.140e-06, Loss_norm: 1.779e+00, Loss tot: 4.680e-04\n",
      "  coefs:  2.6362e-01   -1.5333e-01   -2.2168e-04    6.7721e-01   -6.8126e-01   -2.6180e-03    1.0639e-03  \n",
      "Epoch: 3500,  Loss u: 2.133e-04, Loss pde: 2.395e-06, Loss_norm: 1.795e+00, Loss tot: 2.748e-04\n",
      "  coefs:  2.7693e-01   -1.4590e-01   -2.3672e-04    6.8555e-01   -6.8061e-01   -5.5562e-03    0.0000e+00  \n",
      "Epoch: 3550,  Loss u: 2.349e-04, Loss pde: 2.260e-06, Loss_norm: 1.796e+00, Loss tot: 2.944e-04\n",
      "  coefs:  2.8297e-01   -1.3456e-01    0.0000e+00    6.9221e-01   -6.8128e-01   -5.3605e-03    3.0454e-05  \n",
      "Epoch: 3600,  Loss u: 2.342e-04, Loss pde: 2.223e-06, Loss_norm: 1.778e+00, Loss tot: 2.934e-04\n",
      "  coefs:  2.6897e-01   -1.2782e-01   -3.6651e-04    6.9420e-01   -6.8282e-01   -3.9262e-03    0.0000e+00  \n",
      "Epoch: 3650,  Loss u: 2.191e-04, Loss pde: 2.471e-06, Loss_norm: 1.785e+00, Loss tot: 2.836e-04\n",
      "  coefs:  2.6367e-01   -1.3167e-01    1.2035e-03    6.9463e-01   -6.8828e-01   -4.4051e-03    1.1180e-03  \n",
      "Epoch: 3700,  Loss u: 1.997e-04, Loss pde: 2.505e-06, Loss_norm: 1.800e+00, Loss tot: 2.657e-04\n",
      "  coefs:  2.6178e-01   -1.3531e-01    1.6818e-03    7.0022e-01   -6.9365e-01   -6.1284e-03    8.6738e-04  \n",
      "Epoch: 3750,  Loss u: 1.954e-04, Loss pde: 2.696e-06, Loss_norm: 1.804e+00, Loss tot: 2.656e-04\n",
      "  coefs:  2.6022e-01   -1.4084e-01    1.4907e-03    6.9755e-01   -6.9680e-01   -5.4886e-03    1.4493e-03  \n",
      "Epoch: 3800,  Loss u: 1.822e-04, Loss pde: 2.255e-06, Loss_norm: 1.810e+00, Loss tot: 2.446e-04\n",
      "  coefs:  2.5907e-01   -1.4878e-01   -1.3829e-03    7.0003e-01   -6.9874e-01   -9.3331e-04    9.8850e-04  \n",
      "Epoch: 3850,  Loss u: 1.780e-04, Loss pde: 1.980e-06, Loss_norm: 1.820e+00, Loss tot: 2.355e-04\n",
      "  coefs:  2.5966e-01   -1.4912e-01    7.3564e-04    7.0268e-01   -7.0125e-01   -6.8297e-03    2.1848e-04  \n",
      "Epoch: 3900,  Loss u: 1.859e-04, Loss pde: 2.122e-06, Loss_norm: 1.819e+00, Loss tot: 2.468e-04\n",
      "  coefs:  2.6691e-01   -1.4598e-01   -2.1877e-04    7.0239e-01   -6.9914e-01   -4.2191e-03    1.5188e-04  \n",
      "Epoch: 3950,  Loss u: 1.848e-04, Loss pde: 1.861e-06, Loss_norm: 1.807e+00, Loss tot: 2.408e-04\n",
      "  coefs:  2.5935e-01   -1.4141e-01   -0.0000e+00    7.0519e-01   -7.0038e-01   -8.9470e-04    0.0000e+00  \n",
      "Epoch: 4000,  Loss u: 2.065e-04, Loss pde: 1.748e-06, Loss_norm: 1.803e+00, Loss tot: 2.605e-04\n",
      "  coefs:  2.6376e-01   -1.2496e-01   -0.0000e+00    7.1063e-01   -7.0019e-01   -3.8097e-03    7.5286e-05  \n",
      "Epoch: 4050,  Loss u: 2.303e-04, Loss pde: 1.721e-06, Loss_norm: 1.800e+00, Loss tot: 2.842e-04\n",
      "  coefs:  2.6783e-01   -1.1425e-01   -2.1474e-05    7.1522e-01   -6.9948e-01   -2.9507e-03    0.0000e+00  \n"
     ]
    },
    {
     "name": "stdout",
     "output_type": "stream",
     "text": [
      "Epoch: 4100,  Loss u: 2.292e-04, Loss pde: 1.685e-06, Loss_norm: 1.783e+00, Loss tot: 2.825e-04\n",
      "  coefs:  2.5537e-01   -1.1077e-01   -0.0000e+00    7.1516e-01   -7.0029e-01   -1.6846e-03   -0.0000e+00  \n",
      "Epoch: 4150,  Loss u: 2.071e-04, Loss pde: 1.558e-06, Loss_norm: 1.785e+00, Loss tot: 2.582e-04\n",
      "  coefs:  2.4721e-01   -1.1664e-01   -0.0000e+00    7.1493e-01   -7.0395e-01   -2.2002e-03    1.9750e-05  \n",
      "Epoch: 4200,  Loss u: 2.023e-04, Loss pde: 1.722e-06, Loss_norm: 1.816e+00, Loss tot: 2.577e-04\n",
      "  coefs:  2.5747e-01   -1.2339e-01    1.0417e-03    7.2060e-01   -7.0933e-01   -3.5173e-03    3.3583e-04  \n",
      "Epoch: 4250,  Loss u: 1.850e-04, Loss pde: 1.638e-06, Loss_norm: 1.814e+00, Loss tot: 2.389e-04\n",
      "  coefs:  2.5444e-01   -1.2640e-01   -8.8694e-04    7.2054e-01   -7.1025e-01   -1.2538e-03    2.9729e-04  \n",
      "Epoch: 4300,  Loss u: 2.333e-04, Loss pde: 2.191e-06, Loss_norm: 1.828e+00, Loss tot: 3.000e-04\n",
      "  coefs:  2.6812e-01   -1.1758e-01   -1.5547e-03    7.2501e-01   -7.1068e-01   -5.4476e-03    1.0390e-04  \n",
      "Epoch: 4350,  Loss u: 1.967e-04, Loss pde: 1.523e-06, Loss_norm: 1.823e+00, Loss tot: 2.489e-04\n",
      "  coefs:  2.6413e-01   -1.2523e-01   -1.5216e-03    7.2264e-01   -7.0866e-01   -4.1621e-04    0.0000e+00  \n",
      "Epoch: 4400,  Loss u: 1.831e-04, Loss pde: 1.620e-06, Loss_norm: 1.827e+00, Loss tot: 2.379e-04\n",
      "  coefs:  2.5879e-01   -1.2969e-01    9.1778e-04    7.2212e-01   -7.1167e-01   -2.8217e-03    5.9645e-04  \n",
      "Epoch: 4450,  Loss u: 1.724e-04, Loss pde: 1.582e-06, Loss_norm: 1.822e+00, Loss tot: 2.267e-04\n",
      "  coefs:  2.5231e-01   -1.3544e-01    0.0000e+00    7.2172e-01   -7.1226e-01    3.5267e-04    3.3726e-04  \n",
      "Epoch: 4500,  Loss u: 1.812e-04, Loss pde: 1.455e-06, Loss_norm: 1.806e+00, Loss tot: 2.327e-04\n",
      "  coefs:  2.4550e-01   -1.2513e-01   -0.0000e+00    7.2038e-01   -7.1222e-01   -2.5906e-03    3.1873e-04  \n",
      "Epoch: 4550,  Loss u: 1.721e-04, Loss pde: 1.496e-06, Loss_norm: 1.804e+00, Loss tot: 2.250e-04\n",
      "  coefs:  2.3860e-01   -1.3007e-01    0.0000e+00    7.2078e-01   -7.1393e-01    0.0000e+00    3.4111e-04  \n",
      "Epoch: 4600,  Loss u: 1.942e-04, Loss pde: 2.148e-06, Loss_norm: 1.821e+00, Loss tot: 2.630e-04\n",
      "  coefs:  2.4113e-01   -1.3578e-01    8.3853e-05    7.2206e-01   -7.1911e-01   -3.2135e-03    0.0000e+00  \n",
      "Epoch: 4650,  Loss u: 1.623e-04, Loss pde: 1.415e-06, Loss_norm: 1.819e+00, Loss tot: 2.141e-04\n",
      "  coefs:  2.3863e-01   -1.3842e-01   -6.9824e-04    7.2177e-01   -7.1912e-01    0.0000e+00    7.4656e-04  \n",
      "Epoch: 4700,  Loss u: 1.670e-04, Loss pde: 1.546e-06, Loss_norm: 1.825e+00, Loss tot: 2.224e-04\n",
      "  coefs:  2.3705e-01   -1.4425e-01   -5.6249e-04    7.1966e-01   -7.2099e-01   -1.2007e-03    1.0713e-03  \n",
      "Epoch: 4750,  Loss u: 1.508e-04, Loss pde: 1.323e-06, Loss_norm: 1.834e+00, Loss tot: 2.012e-04\n",
      "  coefs:  2.3902e-01   -1.4907e-01   -2.5824e-04    7.2030e-01   -7.2301e-01   -1.6670e-03    2.4459e-04  \n",
      "Epoch: 4800,  Loss u: 2.152e-04, Loss pde: 2.231e-06, Loss_norm: 1.827e+00, Loss tot: 2.882e-04\n",
      "  coefs:  2.2948e-01   -1.5545e-01   -0.0000e+00    7.1639e-01   -7.2464e-01   -8.2148e-04    0.0000e+00  \n",
      "Epoch: 4850,  Loss u: 1.533e-04, Loss pde: 1.319e-06, Loss_norm: 1.849e+00, Loss tot: 2.044e-04\n",
      "  coefs:  2.3575e-01   -1.6434e-01    0.0000e+00    7.1877e-01   -7.2964e-01   -7.7076e-05    5.0633e-05  \n",
      "Epoch: 4900,  Loss u: 1.712e-04, Loss pde: 1.513e-06, Loss_norm: 1.864e+00, Loss tot: 2.277e-04\n",
      "  coefs:  2.3380e-01   -1.7671e-01    2.5982e-04    7.1904e-01   -7.3380e-01    2.5343e-04    4.8563e-05  \n",
      "Epoch: 4950,  Loss u: 1.589e-04, Loss pde: 1.277e-06, Loss_norm: 1.849e+00, Loss tot: 2.097e-04\n",
      "  coefs:  2.2906e-01   -1.7064e-01    0.0000e+00    7.1611e-01   -7.3302e-01   -0.0000e+00    3.6126e-04  \n",
      "Epoch: 5000,  Loss u: 1.739e-04, Loss pde: 1.413e-06, Loss_norm: 1.837e+00, Loss tot: 2.283e-04\n",
      "  coefs:  2.1888e-01   -1.7124e-01    0.0000e+00    7.1309e-01   -7.3357e-01   -0.0000e+00    5.8910e-04  \n",
      "Epoch: 5050,  Loss u: 1.760e-04, Loss pde: 1.248e-06, Loss_norm: 1.848e+00, Loss tot: 2.266e-04\n",
      "  coefs:  2.1853e-01   -1.7875e-01   -0.0000e+00    7.1300e-01   -7.3757e-01    6.5181e-05    4.4470e-04  \n",
      "Epoch: 5100,  Loss u: 1.946e-04, Loss pde: 1.391e-06, Loss_norm: 1.836e+00, Loss tot: 2.491e-04\n",
      "  coefs:  2.0946e-01   -1.7847e-01   -2.7828e-04    7.0966e-01   -7.3769e-01   -1.9662e-04    6.6275e-04  \n",
      "Epoch: 5150,  Loss u: 1.756e-04, Loss pde: 1.209e-06, Loss_norm: 1.831e+00, Loss tot: 2.257e-04\n",
      "  coefs:  2.1178e-01   -1.7006e-01   -2.6692e-04    7.1119e-01   -7.3733e-01    0.0000e+00    6.9860e-04  \n",
      "Epoch: 5200,  Loss u: 1.742e-04, Loss pde: 1.581e-06, Loss_norm: 1.840e+00, Loss tot: 2.345e-04\n",
      "  coefs:  2.2285e-01   -1.6573e-01   -1.3358e-04    7.1261e-01   -7.3783e-01    1.0075e-04    6.9550e-04  \n",
      "Epoch: 5250,  Loss u: 1.911e-04, Loss pde: 2.305e-06, Loss_norm: 1.856e+00, Loss tot: 2.712e-04\n",
      "  coefs:  2.2105e-01   -1.7625e-01   -2.4767e-04    7.1370e-01   -7.4335e-01   -7.2912e-04    1.9448e-04  \n",
      "Epoch: 5300,  Loss u: 1.671e-04, Loss pde: 1.389e-06, Loss_norm: 1.859e+00, Loss tot: 2.231e-04\n",
      "  coefs:  2.3243e-01   -1.6802e-01   -8.1528e-04    7.1535e-01   -7.4185e-01   -2.8759e-05   -1.6427e-05  \n",
      "Epoch: 5350,  Loss u: 1.572e-04, Loss pde: 1.103e-06, Loss_norm: 1.853e+00, Loss tot: 2.057e-04\n",
      "  coefs:  2.2754e-01   -1.6948e-01   -0.0000e+00    7.1394e-01   -7.4149e-01   -0.0000e+00    4.3157e-04  \n",
      "Epoch: 5400,  Loss u: 1.523e-04, Loss pde: 1.123e-06, Loss_norm: 1.844e+00, Loss tot: 2.016e-04\n",
      "  coefs:  2.2519e-01   -1.6346e-01   -0.0000e+00    7.1460e-01   -7.3969e-01   -1.4280e-04    9.5562e-04  \n",
      "Epoch: 5450,  Loss u: 1.623e-04, Loss pde: 1.118e-06, Loss_norm: 1.837e+00, Loss tot: 2.117e-04\n",
      "  coefs:  2.2018e-01   -1.6521e-01   -0.0000e+00    7.1002e-01   -7.4078e-01   -1.2119e-04    1.1386e-03  \n",
      "Epoch: 5500,  Loss u: 1.578e-04, Loss pde: 1.233e-06, Loss_norm: 1.828e+00, Loss tot: 2.106e-04\n",
      "  coefs:  2.2008e-01   -1.5643e-01   -8.0022e-04    7.1107e-01   -7.3807e-01   -5.5374e-04    5.3747e-04  \n",
      "Epoch: 5550,  Loss u: 1.554e-04, Loss pde: 1.304e-06, Loss_norm: 1.840e+00, Loss tot: 2.106e-04\n",
      "  coefs:  2.2899e-01   -1.5666e-01   -1.0797e-03    7.1343e-01   -7.3921e-01    0.0000e+00    5.5820e-04  \n",
      "Epoch: 5600,  Loss u: 1.486e-04, Loss pde: 9.827e-07, Loss_norm: 1.836e+00, Loss tot: 1.949e-04\n",
      "  coefs:  2.2684e-01   -1.5663e-01   -8.4513e-04    7.1182e-01   -7.3879e-01   -0.0000e+00    7.2253e-04  \n",
      "Epoch: 5650,  Loss u: 1.478e-04, Loss pde: 9.458e-07, Loss_norm: 1.828e+00, Loss tot: 1.932e-04\n",
      "  coefs:  2.2680e-01   -1.4981e-01   -3.1744e-04    7.1285e-01   -7.3703e-01   -5.1247e-04    4.8152e-04  \n",
      "Epoch: 5700,  Loss u: 1.438e-04, Loss pde: 1.003e-06, Loss_norm: 1.834e+00, Loss tot: 1.912e-04\n",
      "  coefs:  2.3307e-01   -1.4849e-01   -1.6822e-04    7.1380e-01   -7.3803e-01   -2.2840e-04    6.5962e-04  \n",
      "Epoch: 5750,  Loss u: 1.911e-04, Loss pde: 1.144e-06, Loss_norm: 1.855e+00, Loss tot: 2.430e-04\n",
      "  coefs:  2.3309e-01   -1.6435e-01    4.2863e-04    7.1452e-01   -7.4117e-01    3.3025e-04    8.5772e-04  \n",
      "Epoch: 5800,  Loss u: 1.448e-04, Loss pde: 9.337e-07, Loss_norm: 1.841e+00, Loss tot: 1.907e-04\n",
      "  coefs:  2.3131e-01   -1.5682e-01   -2.1475e-04    7.1401e-01   -7.3812e-01   -0.0000e+00    8.2256e-04  \n",
      "Epoch: 5850,  Loss u: 1.486e-04, Loss pde: 9.150e-07, Loss_norm: 1.836e+00, Loss tot: 1.941e-04\n",
      "  coefs:  2.2790e-01   -1.5769e-01   -4.3885e-04    7.1086e-01   -7.3744e-01    9.4724e-05    1.1646e-03  \n",
      "Epoch: 5900,  Loss u: 1.513e-04, Loss pde: 9.879e-07, Loss_norm: 1.826e+00, Loss tot: 1.991e-04\n",
      "  coefs:  2.3007e-01   -1.4696e-01   -2.0011e-03    7.1141e-01   -7.3388e-01   -4.8083e-04    9.8089e-04  \n",
      "Epoch: 5950,  Loss u: 1.522e-04, Loss pde: 9.439e-07, Loss_norm: 1.844e+00, Loss tot: 1.992e-04\n",
      "  coefs:  2.4034e-01   -1.5138e-01   -6.2702e-04    7.1294e-01   -7.3723e-01   -0.0000e+00    1.3227e-03  \n",
      "Epoch: 6000,  Loss u: 1.425e-04, Loss pde: 8.349e-07, Loss_norm: 1.836e+00, Loss tot: 1.863e-04\n",
      "  coefs:  2.3633e-01   -1.5017e-01   -4.7823e-04    7.1222e-01   -7.3604e-01    0.0000e+00    1.2031e-03  \n",
      "Epoch: 6050,  Loss u: 1.446e-04, Loss pde: 8.575e-07, Loss_norm: 1.835e+00, Loss tot: 1.892e-04\n",
      "  coefs:  2.4047e-01   -1.4518e-01   -8.7354e-04    7.1331e-01   -7.3426e-01   -2.8290e-06    1.2071e-03  \n",
      "Epoch: 6100,  Loss u: 1.440e-04, Loss pde: 8.258e-07, Loss_norm: 1.839e+00, Loss tot: 1.879e-04\n",
      "  coefs:  2.4454e-01   -1.4514e-01   -6.7888e-04    7.1329e-01   -7.3438e-01    0.0000e+00    1.0740e-03  \n"
     ]
    },
    {
     "name": "stdout",
     "output_type": "stream",
     "text": [
      "Epoch: 6150,  Loss u: 1.515e-04, Loss pde: 1.064e-06, Loss_norm: 1.824e+00, Loss tot: 2.029e-04\n",
      "  coefs:  2.4040e-01   -1.3790e-01   -1.6835e-03    7.1203e-01   -7.3090e-01   -3.5981e-04    8.9188e-04  \n",
      "Epoch: 6200,  Loss u: 1.493e-04, Loss pde: 7.951e-07, Loss_norm: 1.834e+00, Loss tot: 1.926e-04\n",
      "  coefs:  2.4866e-01   -1.3685e-01   -2.1396e-03    7.1400e-01   -7.3114e-01   -0.0000e+00    1.2199e-03  \n",
      "Epoch: 6250,  Loss u: 1.553e-04, Loss pde: 7.917e-07, Loss_norm: 1.837e+00, Loss tot: 1.987e-04\n",
      "  coefs:  2.5463e-01   -1.3321e-01   -2.2124e-03    7.1533e-01   -7.2990e-01   -0.0000e+00    1.2425e-03  \n",
      "Epoch: 6300,  Loss u: 1.707e-04, Loss pde: 8.119e-07, Loss_norm: 1.823e+00, Loss tot: 2.148e-04\n",
      "  coefs:  2.5314e-01   -1.2477e-01   -3.2170e-03    7.1539e-01   -7.2556e-01   -0.0000e+00    7.8680e-04  \n",
      "Epoch: 6350,  Loss u: 1.574e-04, Loss pde: 7.216e-07, Loss_norm: 1.817e+00, Loss tot: 1.988e-04\n",
      "  coefs:  2.4590e-01   -1.3034e-01   -1.1472e-03    7.1233e-01   -7.2561e-01   -0.0000e+00    1.9795e-03  \n",
      "Epoch: 6400,  Loss u: 1.517e-04, Loss pde: 7.660e-07, Loss_norm: 1.825e+00, Loss tot: 1.947e-04\n",
      "  coefs:  2.4452e-01   -1.3920e-01    0.0000e+00    7.1145e-01   -7.2702e-01   -0.0000e+00    2.9506e-03  \n",
      "Epoch: 6450,  Loss u: 1.519e-04, Loss pde: 7.843e-07, Loss_norm: 1.814e+00, Loss tot: 1.956e-04\n",
      "  coefs:  2.3865e-01   -1.3779e-01    7.3989e-04    7.1078e-01   -7.2555e-01    0.0000e+00    0.0000e+00  \n",
      "Epoch: 6500,  Loss u: 1.500e-04, Loss pde: 6.762e-07, Loss_norm: 1.814e+00, Loss tot: 1.904e-04\n",
      "  coefs:  2.4031e-01   -1.3758e-01   -1.2541e-04    7.0958e-01   -7.2522e-01   -0.0000e+00    9.5541e-04  \n",
      "Epoch: 6550,  Loss u: 1.645e-04, Loss pde: 2.170e-06, Loss_norm: 1.818e+00, Loss tot: 2.545e-04\n",
      "  coefs:  2.3820e-01   -1.4350e-01    9.4296e-05    7.0709e-01   -7.2670e-01   -1.5717e-03    5.7351e-04  \n",
      "Epoch: 6600,  Loss u: 1.629e-04, Loss pde: 7.822e-07, Loss_norm: 1.835e+00, Loss tot: 2.073e-04\n",
      "  coefs:  2.4820e-01   -1.4888e-01   -4.1452e-04    7.0857e-01   -7.2815e-01   -0.0000e+00    9.2295e-04  \n",
      "Epoch: 6650,  Loss u: 1.445e-04, Loss pde: 6.726e-07, Loss_norm: 1.831e+00, Loss tot: 1.854e-04\n",
      "  coefs:  2.4536e-01   -1.4762e-01    9.4537e-04    7.0919e-01   -7.2777e-01    0.0000e+00   -4.0244e-04  \n",
      "Epoch: 6700,  Loss u: 1.692e-04, Loss pde: 1.218e-06, Loss_norm: 1.842e+00, Loss tot: 2.288e-04\n",
      "  coefs:  2.5752e-01   -1.4466e-01   -1.2167e-03    7.1087e-01   -7.2737e-01   -0.0000e+00   -4.7756e-04  \n",
      "Epoch: 6750,  Loss u: 1.484e-04, Loss pde: 6.500e-07, Loss_norm: 1.826e+00, Loss tot: 1.888e-04\n",
      "  coefs:  2.4954e-01   -1.4326e-01   -3.2925e-04    7.0739e-01   -7.2474e-01   -0.0000e+00    4.2928e-04  \n",
      "Epoch: 6800,  Loss u: 1.522e-04, Loss pde: 6.352e-07, Loss_norm: 1.818e+00, Loss tot: 1.921e-04\n",
      "  coefs:  2.4843e-01   -1.3823e-01   -1.3098e-05    7.0756e-01   -7.2263e-01   -5.1573e-04    5.5712e-04  \n",
      "Epoch: 6850,  Loss u: 1.579e-04, Loss pde: 6.287e-07, Loss_norm: 1.810e+00, Loss tot: 1.977e-04\n",
      "  coefs:  2.4527e-01   -1.3749e-01   -1.8126e-03    7.0430e-01   -7.1894e-01   -0.0000e+00    1.6825e-03  \n",
      "Epoch: 6900,  Loss u: 1.663e-04, Loss pde: 7.980e-07, Loss_norm: 1.807e+00, Loss tot: 2.121e-04\n",
      "  coefs:  2.3811e-01   -1.4430e-01    0.0000e+00    7.0153e-01   -7.2001e-01    8.4617e-05    2.6210e-03  \n",
      "Epoch: 6950,  Loss u: 1.528e-04, Loss pde: 5.901e-07, Loss_norm: 1.810e+00, Loss tot: 1.916e-04\n",
      "  coefs:  2.4231e-01   -1.4336e-01   -2.9430e-04    7.0223e-01   -7.2006e-01   -0.0000e+00    1.6472e-03  \n",
      "Epoch: 7000,  Loss u: 1.513e-04, Loss pde: 7.184e-07, Loss_norm: 1.820e+00, Loss tot: 1.949e-04\n",
      "  coefs:  2.4620e-01   -1.4515e-01    1.3373e-04    7.0340e-01   -7.2313e-01   -5.8143e-04    1.1656e-03  \n",
      "Epoch: 7050,  Loss u: 1.608e-04, Loss pde: 7.095e-07, Loss_norm: 1.820e+00, Loss tot: 2.042e-04\n",
      "  coefs:  2.5351e-01   -1.4028e-01   -2.0386e-03    7.0399e-01   -7.1940e-01   -2.2811e-04    7.1061e-04  \n",
      "Epoch: 7100,  Loss u: 1.533e-04, Loss pde: 5.682e-07, Loss_norm: 1.817e+00, Loss tot: 1.918e-04\n",
      "  coefs:  2.5058e-01   -1.4333e-01   -1.8299e-03    7.0118e-01   -7.1833e-01   -0.0000e+00    1.9685e-03  \n",
      "Epoch: 7150,  Loss u: 1.683e-04, Loss pde: 7.084e-07, Loss_norm: 1.816e+00, Loss tot: 2.120e-04\n",
      "  coefs:  2.4566e-01   -1.4899e-01   -1.3640e-03    6.9700e-01   -7.1817e-01   -6.9986e-04    3.6270e-03  \n",
      "Epoch: 7200,  Loss u: 1.544e-04, Loss pde: 6.215e-07, Loss_norm: 1.828e+00, Loss tot: 1.953e-04\n",
      "  coefs:  2.5115e-01   -1.5429e-01   -5.0516e-04    6.9877e-01   -7.2088e-01   -1.5898e-04    1.7789e-03  \n",
      "Epoch: 7250,  Loss u: 1.505e-04, Loss pde: 5.833e-07, Loss_norm: 1.825e+00, Loss tot: 1.900e-04\n",
      "  coefs:  2.5283e-01   -1.5125e-01   -1.5980e-03    6.9854e-01   -7.1899e-01   -0.0000e+00    2.1578e-03  \n",
      "Epoch: 7300,  Loss u: 1.557e-04, Loss pde: 5.856e-07, Loss_norm: 1.825e+00, Loss tot: 1.955e-04\n",
      "  coefs:  2.5821e-01   -1.4763e-01   -3.3796e-04    6.9969e-01   -7.1813e-01    0.0000e+00    1.2500e-03  \n",
      "Epoch: 7350,  Loss u: 1.525e-04, Loss pde: 5.676e-07, Loss_norm: 1.836e+00, Loss tot: 1.918e-04\n",
      "  coefs:  2.6075e-01   -1.5459e-01   -0.0000e+00    6.9888e-01   -7.2031e-01    0.0000e+00    1.1193e-03  \n",
      "Epoch: 7400,  Loss u: 1.526e-04, Loss pde: 5.907e-07, Loss_norm: 1.831e+00, Loss tot: 1.929e-04\n",
      "  coefs:  2.5655e-01   -1.5871e-01    0.0000e+00    6.9615e-01   -7.1919e-01    1.5393e-04    7.3392e-04  \n",
      "Epoch: 7450,  Loss u: 1.539e-04, Loss pde: 5.672e-07, Loss_norm: 1.822e+00, Loss tot: 1.934e-04\n",
      "  coefs:  2.5527e-01   -1.5446e-01   -1.2924e-03    6.9432e-01   -7.1592e-01   -0.0000e+00    1.2429e-03  \n",
      "Epoch: 7500,  Loss u: 1.527e-04, Loss pde: 5.128e-07, Loss_norm: 1.819e+00, Loss tot: 1.902e-04\n",
      "  coefs:  2.5451e-01   -1.5338e-01   -1.9807e-05    6.9457e-01   -7.1507e-01   -0.0000e+00    9.8909e-04  \n",
      "Epoch: 7550,  Loss u: 1.606e-04, Loss pde: 6.785e-07, Loss_norm: 1.821e+00, Loss tot: 2.046e-04\n",
      "  coefs:  2.5992e-01   -1.5032e-01   -8.5417e-04    6.9427e-01   -7.1406e-01   -2.5831e-04    1.3851e-03  \n",
      "Epoch: 7600,  Loss u: 1.560e-04, Loss pde: 5.238e-07, Loss_norm: 1.827e+00, Loss tot: 1.943e-04\n",
      "  coefs:  2.6437e-01   -1.5217e-01   -2.5284e-04    6.9561e-01   -7.1453e-01   -1.7702e-05    2.8747e-04  \n",
      "Epoch: 7650,  Loss u: 1.560e-04, Loss pde: 5.135e-07, Loss_norm: 1.823e+00, Loss tot: 1.940e-04\n",
      "  coefs:  2.6439e-01   -1.5085e-01   -1.5997e-04    6.9533e-01   -7.1255e-01   -0.0000e+00    2.0398e-04  \n",
      "Epoch: 7700,  Loss u: 1.673e-04, Loss pde: 5.384e-07, Loss_norm: 1.828e+00, Loss tot: 2.065e-04\n",
      "  coefs:  2.7110e-01   -1.4770e-01   -1.4281e-03    6.9503e-01   -7.1131e-01    0.0000e+00    9.6118e-04  \n",
      "Epoch: 7750,  Loss u: 1.653e-04, Loss pde: 5.006e-07, Loss_norm: 1.829e+00, Loss tot: 2.031e-04\n",
      "  coefs:  2.7431e-01   -1.4752e-01   -3.0513e-04    6.9586e-01   -7.1017e-01    0.0000e+00    4.3760e-04  \n",
      "Epoch: 7800,  Loss u: 1.752e-04, Loss pde: 5.346e-07, Loss_norm: 1.828e+00, Loss tot: 2.145e-04\n",
      "  coefs:  2.7865e-01   -1.4392e-01   -1.8126e-03    6.9483e-01   -7.0760e-01    1.5913e-05    9.4671e-04  \n",
      "Epoch: 7850,  Loss u: 1.723e-04, Loss pde: 4.705e-07, Loss_norm: 1.821e+00, Loss tot: 2.091e-04\n",
      "  coefs:  2.7475e-01   -1.4453e-01   -3.0544e-03    6.9105e-01   -7.0482e-01   -0.0000e+00    2.4068e-03  \n",
      "Epoch: 7900,  Loss u: 1.684e-04, Loss pde: 4.987e-07, Loss_norm: 1.828e+00, Loss tot: 2.065e-04\n",
      "  coefs:  2.7452e-01   -1.5204e-01   -1.4973e-03    6.8978e-01   -7.0669e-01    0.0000e+00    3.3542e-03  \n",
      "Epoch: 7950,  Loss u: 1.771e-04, Loss pde: 4.830e-07, Loss_norm: 1.835e+00, Loss tot: 2.147e-04\n",
      "  coefs:  2.8187e-01   -1.5033e-01   -3.9003e-03    6.8884e-01   -7.0562e-01   -2.6859e-04    4.4254e-03  \n",
      "Epoch: 8000,  Loss u: 1.729e-04, Loss pde: 4.557e-07, Loss_norm: 1.829e+00, Loss tot: 2.095e-04\n",
      "  coefs:  2.7945e-01   -1.5116e-01   -4.4332e-03    6.8582e-01   -7.0324e-01   -0.0000e+00    4.9842e-03  \n",
      "Epoch: 8050,  Loss u: 1.838e-04, Loss pde: 6.244e-07, Loss_norm: 1.831e+00, Loss tot: 2.274e-04\n",
      "  coefs:  2.7656e-01   -1.5812e-01   -2.2346e-03    6.8296e-01   -7.0448e-01   -4.1770e-04    5.8579e-03  \n",
      "Epoch: 8100,  Loss u: 1.697e-04, Loss pde: 4.375e-07, Loss_norm: 1.827e+00, Loss tot: 2.057e-04\n",
      "  coefs:  2.7791e-01   -1.5648e-01   -2.6013e-03    6.8283e-01   -7.0190e-01   -0.0000e+00    5.3231e-03  \n",
      "Epoch: 8150,  Loss u: 1.738e-04, Loss pde: 4.782e-07, Loss_norm: 1.822e+00, Loss tot: 2.116e-04\n",
      "  coefs:  2.7672e-01   -1.5505e-01   -4.0260e-03    6.7975e-01   -7.0001e-01    0.0000e+00    5.9758e-03  \n"
     ]
    },
    {
     "name": "stdout",
     "output_type": "stream",
     "text": [
      "Epoch: 8200,  Loss u: 1.709e-04, Loss pde: 4.627e-07, Loss_norm: 1.812e+00, Loss tot: 2.081e-04\n",
      "  coefs:  2.7103e-01   -1.5666e-01   -1.8557e-03    6.7843e-01   -6.9893e-01    0.0000e+00    5.3340e-03  \n",
      "Epoch: 8250,  Loss u: 1.694e-04, Loss pde: 4.326e-07, Loss_norm: 1.820e+00, Loss tot: 2.055e-04\n",
      "  coefs:  2.7395e-01   -1.6120e-01   -1.1693e-03    6.7741e-01   -7.0060e-01   -0.0000e+00    6.0509e-03  \n",
      "Epoch: 8300,  Loss u: 1.678e-04, Loss pde: 4.194e-07, Loss_norm: 1.823e+00, Loss tot: 2.035e-04\n",
      "  coefs:  2.7536e-01   -1.6369e-01   -7.8900e-04    6.7708e-01   -7.0079e-01   -0.0000e+00    5.5945e-03  \n",
      "Epoch: 8350,  Loss u: 1.718e-04, Loss pde: 4.676e-07, Loss_norm: 1.811e+00, Loss tot: 2.095e-04\n",
      "  coefs:  2.6994e-01   -1.6246e-01   -3.4688e-04    6.7510e-01   -6.9833e-01    6.9502e-07    4.7960e-03  \n",
      "Epoch: 8400,  Loss u: 1.684e-04, Loss pde: 4.134e-07, Loss_norm: 1.817e+00, Loss tot: 2.039e-04\n",
      "  coefs:  2.7200e-01   -1.6688e-01   -1.9084e-04    6.7319e-01   -6.9981e-01   -0.0000e+00    4.5147e-03  \n",
      "Epoch: 8450,  Loss u: 1.806e-04, Loss pde: 5.449e-07, Loss_norm: 1.823e+00, Loss tot: 2.219e-04\n",
      "  coefs:  2.7034e-01   -1.7434e-01    9.7789e-04    6.7207e-01   -7.0146e-01    2.4126e-04    3.2576e-03  \n",
      "Epoch: 8500,  Loss u: 1.690e-04, Loss pde: 4.062e-07, Loss_norm: 1.816e+00, Loss tot: 2.044e-04\n",
      "  coefs:  2.7074e-01   -1.7152e-01   -2.2947e-04    6.7110e-01   -6.9931e-01    0.0000e+00    2.9923e-03  \n",
      "Epoch: 8550,  Loss u: 1.714e-04, Loss pde: 4.032e-07, Loss_norm: 1.810e+00, Loss tot: 2.067e-04\n",
      "  coefs:  2.6820e-01   -1.7145e-01   -1.2556e-04    6.6854e-01   -6.9819e-01    0.0000e+00    3.3851e-03  \n",
      "Epoch: 8600,  Loss u: 1.722e-04, Loss pde: 4.096e-07, Loss_norm: 1.809e+00, Loss tot: 2.079e-04\n",
      "  coefs:  2.6746e-01   -1.7332e-01   -2.6277e-04    6.6749e-01   -6.9725e-01    0.0000e+00    3.1218e-03  \n",
      "Epoch: 8650,  Loss u: 1.752e-04, Loss pde: 3.908e-07, Loss_norm: 1.810e+00, Loss tot: 2.102e-04\n",
      "  coefs:  2.6745e-01   -1.7643e-01   -0.0000e+00    6.6531e-01   -6.9761e-01   -0.0000e+00    2.8048e-03  \n",
      "Epoch: 8700,  Loss u: 1.748e-04, Loss pde: 4.103e-07, Loss_norm: 1.817e+00, Loss tot: 2.109e-04\n",
      "  coefs:  2.7101e-01   -1.7842e-01   -3.3791e-04    6.6560e-01   -6.9898e-01   -0.0000e+00    2.2465e-03  \n",
      "Epoch: 8750,  Loss u: 1.746e-04, Loss pde: 3.698e-07, Loss_norm: 1.815e+00, Loss tot: 2.090e-04\n",
      "  coefs:  2.7137e-01   -1.7896e-01   -0.0000e+00    6.6512e-01   -6.9729e-01   -0.0000e+00    2.1374e-03  \n",
      "Epoch: 8800,  Loss u: 1.951e-04, Loss pde: 6.348e-07, Loss_norm: 1.817e+00, Loss tot: 2.413e-04\n",
      "  coefs:  2.6753e-01   -1.8451e-01    2.2626e-03    6.6473e-01   -6.9708e-01    5.6089e-04    0.0000e+00  \n",
      "Epoch: 8850,  Loss u: 1.797e-04, Loss pde: 3.803e-07, Loss_norm: 1.810e+00, Loss tot: 2.146e-04\n",
      "  coefs:  2.6997e-01   -1.8183e-01    8.1377e-05    6.6222e-01   -6.9535e-01    0.0000e+00   -2.5935e-04  \n",
      "Epoch: 8900,  Loss u: 1.841e-04, Loss pde: 3.671e-07, Loss_norm: 1.800e+00, Loss tot: 2.185e-04\n",
      "  coefs:  2.6734e-01   -1.8012e-01   -2.6418e-04    6.5937e-01   -6.9254e-01   -0.0000e+00    3.6322e-04  \n",
      "Epoch: 8950,  Loss u: 1.823e-04, Loss pde: 3.466e-07, Loss_norm: 1.799e+00, Loss tot: 2.158e-04\n",
      "  coefs:  2.6723e-01   -1.8027e-01   -0.0000e+00    6.5906e-01   -6.9187e-01   -0.0000e+00    3.8730e-04  \n",
      "Epoch: 9000,  Loss u: 1.895e-04, Loss pde: 3.705e-07, Loss_norm: 1.792e+00, Loss tot: 2.242e-04\n",
      "  coefs:  2.6492e-01   -1.7955e-01   -1.1895e-04    6.5504e-01   -6.9072e-01   -0.0000e+00    1.4762e-03  \n",
      "Epoch: 9050,  Loss u: 1.929e-04, Loss pde: 3.503e-07, Loss_norm: 1.792e+00, Loss tot: 2.267e-04\n",
      "  coefs:  2.6412e-01   -1.8316e-01   -3.3642e-04    6.5368e-01   -6.9076e-01   -0.0000e+00    1.6523e-04  \n",
      "Epoch: 9100,  Loss u: 1.923e-04, Loss pde: 3.318e-07, Loss_norm: 1.790e+00, Loss tot: 2.253e-04\n",
      "  coefs:  2.6450e-01   -1.8311e-01   -0.0000e+00    6.5319e-01   -6.8923e-01   -0.0000e+00    2.5975e-04  \n",
      "Epoch: 9150,  Loss u: 2.223e-04, Loss pde: 3.418e-07, Loss_norm: 1.780e+00, Loss tot: 2.557e-04\n",
      "  coefs:  2.6094e-01   -1.8117e-01    0.0000e+00    6.5044e-01   -6.8711e-01   -0.0000e+00    3.8260e-04  \n",
      "Epoch: 9200,  Loss u: 2.019e-04, Loss pde: 3.195e-07, Loss_norm: 1.779e+00, Loss tot: 2.344e-04\n",
      "  coefs:  2.6142e-01   -1.8106e-01   -7.5474e-05    6.4858e-01   -6.8658e-01   -0.0000e+00    1.1574e-03  \n",
      "Epoch: 9250,  Loss u: 2.083e-04, Loss pde: 5.212e-07, Loss_norm: 1.782e+00, Loss tot: 2.503e-04\n",
      "  coefs:  2.6872e-01   -1.7698e-01   -1.7734e-03    6.4900e-01   -6.8458e-01   -4.8451e-04    4.9197e-04  \n",
      "Epoch: 9300,  Loss u: 2.024e-04, Loss pde: 3.172e-07, Loss_norm: 1.775e+00, Loss tot: 2.349e-04\n",
      "  coefs:  2.6505e-01   -1.7770e-01   -7.6681e-04    6.4620e-01   -6.8396e-01   -0.0000e+00    1.6861e-03  \n",
      "Epoch: 9350,  Loss u: 2.096e-04, Loss pde: 3.143e-07, Loss_norm: 1.768e+00, Loss tot: 2.420e-04\n",
      "  coefs:  2.6367e-01   -1.7542e-01   -1.5212e-03    6.4394e-01   -6.8127e-01    0.0000e+00    2.1924e-03  \n",
      "Epoch: 9400,  Loss u: 2.293e-04, Loss pde: 3.466e-07, Loss_norm: 1.767e+00, Loss tot: 2.633e-04\n",
      "  coefs:  2.6166e-01   -1.7830e-01   -1.3333e-03    6.4092e-01   -6.8121e-01   -1.7730e-05    3.9506e-03  \n",
      "Epoch: 9450,  Loss u: 2.248e-04, Loss pde: 3.150e-07, Loss_norm: 1.760e+00, Loss tot: 2.573e-04\n",
      "  coefs:  2.5952e-01   -1.7751e-01    0.0000e+00    6.3967e-01   -6.8002e-01    0.0000e+00    3.0601e-03  \n",
      "Epoch: 9500,  Loss u: 2.269e-04, Loss pde: 3.226e-07, Loss_norm: 1.757e+00, Loss tot: 2.598e-04\n",
      "  coefs:  2.6061e-01   -1.7528e-01   -1.8258e-03    6.3801e-01   -6.7760e-01   -2.4192e-05    3.3639e-03  \n",
      "Epoch: 9550,  Loss u: 2.204e-04, Loss pde: 3.472e-07, Loss_norm: 1.758e+00, Loss tot: 2.546e-04\n",
      "  coefs:  2.6453e-01   -1.7418e-01   -1.6637e-03    6.3870e-01   -6.7623e-01   -1.4463e-06    3.1528e-03  \n",
      "Epoch: 9600,  Loss u: 2.268e-04, Loss pde: 3.099e-07, Loss_norm: 1.755e+00, Loss tot: 2.592e-04\n",
      "  coefs:  2.6448e-01   -1.7293e-01   -2.0877e-03    6.3676e-01   -6.7386e-01   -1.3366e-04    4.2464e-03  \n",
      "Epoch: 9650,  Loss u: 2.322e-04, Loss pde: 2.813e-07, Loss_norm: 1.748e+00, Loss tot: 2.632e-04\n",
      "  coefs:  2.6314e-01   -1.7101e-01   -1.8138e-03    6.3603e-01   -6.7171e-01   -0.0000e+00    4.0302e-03  \n",
      "Epoch: 9700,  Loss u: 2.315e-04, Loss pde: 3.839e-07, Loss_norm: 1.745e+00, Loss tot: 2.676e-04\n",
      "  coefs:  2.6627e-01   -1.6715e-01   -1.8565e-03    6.3719e-01   -6.6937e-01   -3.2382e-04    3.1424e-03  \n",
      "Epoch: 9750,  Loss u: 2.319e-04, Loss pde: 3.241e-07, Loss_norm: 1.749e+00, Loss tot: 2.652e-04\n",
      "  coefs:  2.6744e-01   -1.7054e-01    1.4935e-04    6.3712e-01   -6.7028e-01    0.0000e+00    3.1655e-03  \n",
      "Epoch: 9800,  Loss u: 2.216e-04, Loss pde: 2.752e-07, Loss_norm: 1.751e+00, Loss tot: 2.526e-04\n",
      "  coefs:  2.6924e-01   -1.7169e-01   -5.6163e-04    6.3667e-01   -6.6969e-01   -0.0000e+00    3.0208e-03  \n",
      "Epoch: 9850,  Loss u: 2.320e-04, Loss pde: 2.911e-07, Loss_norm: 1.755e+00, Loss tot: 2.639e-04\n",
      "  coefs:  2.7535e-01   -1.7047e-01   -2.4822e-03    6.3479e-01   -6.6755e-01   -6.4799e-04    3.7945e-03  \n",
      "Epoch: 9900,  Loss u: 2.227e-04, Loss pde: 2.678e-07, Loss_norm: 1.748e+00, Loss tot: 2.534e-04\n",
      "  coefs:  2.7525e-01   -1.6817e-01   -1.0042e-03    6.3545e-01   -6.6557e-01   -0.0000e+00    2.9854e-03  \n",
      "Epoch: 9950,  Loss u: 2.181e-04, Loss pde: 2.860e-07, Loss_norm: 1.754e+00, Loss tot: 2.499e-04\n",
      "  coefs:  2.7777e-01   -1.7112e-01   -0.0000e+00    6.3547e-01   -6.6707e-01   -0.0000e+00    2.7962e-03  \n"
     ]
    }
   ],
   "source": [
    "params = {'n_epochs':10000,\n",
    "          'alpha_pde_start':1,\n",
    "           'alpha_pde_end':50,\n",
    "           'alpha_l1':1e-5, \n",
    "          'warmup_nsteps':500,\n",
    "          'linearRegInterval':5,\n",
    "          'linearRegression':True,\n",
    "          'width':50,\n",
    "          'layers':8,\n",
    "          'lr':0.002,\n",
    "          'update_coef_in_dl':False,\n",
    "          'logfile':'alpha_increase.txt'}\n",
    "\n",
    "model = learning(inputs=inputs, u=u, dictionary=dictionary,**params)\n"
   ]
  },
  {
   "cell_type": "code",
   "execution_count": 5,
   "metadata": {},
   "outputs": [],
   "source": [
    "log = pd.read_csv('alpha_increase.txt')"
   ]
  },
  {
   "cell_type": "code",
   "execution_count": 6,
   "metadata": {},
   "outputs": [
    {
     "data": {
      "text/plain": [
       "array([-0.62471, -0.62471, -0.62471, ...,  0.63449,  0.63449,  0.63449])"
      ]
     },
     "execution_count": 6,
     "metadata": {},
     "output_type": "execute_result"
    }
   ],
   "source": [
    "log['p3'].values"
   ]
  },
  {
   "cell_type": "code",
   "execution_count": 7,
   "metadata": {},
   "outputs": [
    {
     "data": {
      "text/plain": [
       "[<matplotlib.lines.Line2D at 0x2b7777380b10>]"
      ]
     },
     "execution_count": 7,
     "metadata": {},
     "output_type": "execute_result"
    },
    {
     "data": {
      "image/png": "[encoded data removed]",
      "text/plain": [
       "<Figure size 432x288 with 1 Axes>"
      ]
     },
     "metadata": {
      "needs_background": "light"
     },
     "output_type": "display_data"
    }
   ],
   "source": [
    "plt.plot(log['Epoch'].values, log['p3'].values)\n",
    "plt.plot([0,10000],[1,1])\n",
    "plt.ylim(-1,1.2)\n",
    "plt.plot([0,10000],[-1,-1])"
   ]
  },
  {
   "cell_type": "code",
   "execution_count": 8,
   "metadata": {},
   "outputs": [
    {
     "data": {
      "text/plain": [
       "[<matplotlib.lines.Line2D at 0x2b7777aa0250>]"
      ]
     },
     "execution_count": 8,
     "metadata": {},
     "output_type": "execute_result"
    },
    {
     "data": {
      "image/png": "[encoded data removed]",
      "text/plain": [
       "<Figure size 432x288 with 1 Axes>"
      ]
     },
     "metadata": {
      "needs_background": "light"
     },
     "output_type": "display_data"
    }
   ],
   "source": [
    "plt.plot(log['Epoch'], log['p4'])\n",
    "plt.plot([0,10000],[1,1])\n",
    "plt.ylim(-2,-0.4)\n",
    "plt.plot([0,10000],[-1,-1])"
   ]
  },
  {
   "cell_type": "code",
   "execution_count": 213,
   "metadata": {},
   "outputs": [
    {
     "data": {
      "text/plain": [
       "[<matplotlib.lines.Line2D at 0x2b5caff68c10>]"
      ]
     },
     "execution_count": 213,
     "metadata": {},
     "output_type": "execute_result"
    },
    {
     "data": {
      "image/png": "[encoded data removed]",
      "text/plain": [
       "<Figure size 432x288 with 1 Axes>"
      ]
     },
     "metadata": {
      "needs_background": "light"
     },
     "output_type": "display_data"
    }
   ],
   "source": [
    "plt.semilogy(stat['epoch'], stat['loss_u'])"
   ]
  },
  {
   "cell_type": "code",
   "execution_count": 214,
   "metadata": {},
   "outputs": [
    {
     "data": {
      "text/plain": [
       "[<matplotlib.lines.Line2D at 0x2b5d17cb8590>]"
      ]
     },
     "execution_count": 214,
     "metadata": {},
     "output_type": "execute_result"
    },
    {
     "data": {
      "image/png": "[encoded data removed]",
      "text/plain": [
       "<Figure size 432x288 with 1 Axes>"
      ]
     },
     "metadata": {
      "needs_background": "light"
     },
     "output_type": "display_data"
    }
   ],
   "source": [
    "plt.semilogy(stat['epoch'], stat['loss_f'])"
   ]
  },
  {
   "cell_type": "code",
   "execution_count": 215,
   "metadata": {},
   "outputs": [
    {
     "data": {
      "text/plain": [
       "[<matplotlib.lines.Line2D at 0x2b5d7a777410>]"
      ]
     },
     "execution_count": 215,
     "metadata": {},
     "output_type": "execute_result"
    },
    {
     "data": {
      "image/png": "[encoded data removed]",
      "text/plain": [
       "<Figure size 432x288 with 1 Axes>"
      ]
     },
     "metadata": {
      "needs_background": "light"
     },
     "output_type": "display_data"
    }
   ],
   "source": [
    "plt.semilogy(stat['epoch'], stat['loss_tot'])"
   ]
  },
  {
   "cell_type": "code",
   "execution_count": 10,
   "metadata": {},
   "outputs": [],
   "source": [
    "t_mesh = dt*np.arange(nsteps)\n",
    "x_mesh = dx*np.arange(nx)\n",
    "y_mesh = dy*np.arange(ny)\n",
    "t_mesh, x_mesh,y_mesh = np.meshgrid(t_mesh, x_mesh, y_mesh,indexing='ij')\n",
    "t_mesh = np.reshape(t_mesh, (-1,1))\n",
    "x_mesh = np.reshape(x_mesh, (-1,1))\n",
    "y_mesh = np.reshape(y_mesh, (-1,1))\n",
    "x_mesh /= x_max\n",
    "y_mesh /= y_max\n",
    "t_mesh /= t_max\n",
    "prediction = model(torch.cat([torch.tensor(x_mesh), torch.tensor(y_mesh), torch.tensor(t_mesh)],dim=1).double().cuda(0))"
   ]
  }
 ],
 "metadata": {
  "kernelspec": {
   "display_name": "Python 3",
   "language": "python",
   "name": "python3"
  },
  "language_info": {
   "codemirror_mode": {
    "name": "ipython",
    "version": 3
   },
   "file_extension": ".py",
   "mimetype": "text/x-python",
   "name": "python",
   "nbconvert_exporter": "python",
   "pygments_lexer": "ipython3",
   "version": "3.7.6"
  }
 },
 "nbformat": 4,
 "nbformat_minor": 2
}
